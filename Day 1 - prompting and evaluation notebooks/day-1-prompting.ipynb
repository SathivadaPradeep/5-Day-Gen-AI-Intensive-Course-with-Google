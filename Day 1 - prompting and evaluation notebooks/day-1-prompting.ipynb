{
 "cells": [
  {
   "cell_type": "markdown",
   "id": "32c971d9",
   "metadata": {
    "id": "jkxRSYjzA1oX",
    "papermill": {
     "duration": 0.013112,
     "end_time": "2025-07-06T07:11:43.041611",
     "exception": false,
     "start_time": "2025-07-06T07:11:43.028499",
     "status": "completed"
    },
    "tags": []
   },
   "source": [
    "##### Copyright 2025 Google LLC."
   ]
  },
  {
   "cell_type": "code",
   "execution_count": 1,
   "id": "27bf421b",
   "metadata": {
    "cellView": "form",
    "execution": {
     "iopub.execute_input": "2025-07-06T07:11:43.069686Z",
     "iopub.status.busy": "2025-07-06T07:11:43.069172Z",
     "iopub.status.idle": "2025-07-06T07:11:43.074587Z",
     "shell.execute_reply": "2025-07-06T07:11:43.073727Z"
    },
    "id": "5u5OZ2ShA3BA",
    "jupyter": {
     "source_hidden": true
    },
    "papermill": {
     "duration": 0.022116,
     "end_time": "2025-07-06T07:11:43.076550",
     "exception": false,
     "start_time": "2025-07-06T07:11:43.054434",
     "status": "completed"
    },
    "tags": []
   },
   "outputs": [],
   "source": [
    "# @title Licensed under the Apache License, Version 2.0 (the \"License\");\n",
    "# you may not use this file except in compliance with the License.\n",
    "# You may obtain a copy of the License at\n",
    "#\n",
    "# https://www.apache.org/licenses/LICENSE-2.0\n",
    "#\n",
    "# Unless required by applicable law or agreed to in writing, software\n",
    "# distributed under the License is distributed on an \"AS IS\" BASIS,\n",
    "# WITHOUT WARRANTIES OR CONDITIONS OF ANY KIND, either express or implied.\n",
    "# See the License for the specific language governing permissions and\n",
    "# limitations under the License."
   ]
  },
  {
   "cell_type": "markdown",
   "id": "b49f4ff9",
   "metadata": {
    "id": "csNPnkuCobmG",
    "papermill": {
     "duration": 0.011833,
     "end_time": "2025-07-06T07:11:43.100777",
     "exception": false,
     "start_time": "2025-07-06T07:11:43.088944",
     "status": "completed"
    },
    "tags": []
   },
   "source": [
    "# Day 1 - Prompting\n",
    "\n",
    "Welcome to the Kaggle 5-day Generative AI course!\n",
    "\n",
    "This notebook will show you how to get started with the Gemini API and walk you through some of the example prompts and techniques that you can also read about in the Prompting whitepaper. You don't need to read the whitepaper to use this notebook, but the papers will give you some theoretical context and background to complement this interactive notebook.\n",
    "\n",
    "\n",
    "## Before you begin\n",
    "\n",
    "In this notebook, you'll start exploring prompting using the Python SDK and AI Studio. For some inspiration, you might enjoy exploring some apps that have been built using the Gemini family of models. Here are a few that we like, and we think you will too.\n",
    "\n",
    "* [TextFX](https://textfx.withgoogle.com/) is a suite of AI-powered tools for rappers, made in collaboration with Lupe Fiasco,\n",
    "* [SQL Talk](https://sql-talk-r5gdynozbq-uc.a.run.app/) shows how you can talk directly to a database using the Gemini API,\n",
    "* [NotebookLM](https://notebooklm.google/) uses Gemini models to build your own personal AI research assistant.\n",
    "\n",
    "\n",
    "## For help\n",
    "\n",
    "**Common issues are covered in the [FAQ and troubleshooting guide](https://www.kaggle.com/code/markishere/day-0-troubleshooting-and-faqs).**\n",
    "\n",
    "## New for Gemini 2.0!\n",
    "\n",
    "This course material was first launched in November 2024. The AI and LLM space is moving incredibly fast, so we have made some updates to use the latest models and capabilities.\n",
    "\n",
    "* These codelabs have been updated to use the Gemini 2.0 family of models.\n",
    "* The Python SDK has been updated from `google-generativeai` to the new, unified [`google-genai`](https://pypi.org/project/google-genai) SDK.\n",
    "  * This new SDK works with both the developer Gemini API as well as Google Cloud Vertex AI, and switching is [as simple as changing some fields](https://pypi.org/project/google-genai/#:~:text=.Client%28%29-,API%20Selection,-By%20default%2C%20the).\n",
    "* New model capabilities have been added to the relevant codelabs, such as \"thinking mode\" in this lab.\n",
    "* Day 1 includes a new [Evaluation codelab](https://www.kaggle.com/code/markishere/day-1-evaluation-and-structured-output)."
   ]
  },
  {
   "attachments": {
    "d8299597-f771-4195-ac94-1d6f658ef2bd.png": {
     "image/png": "[encoded data removed]"
    },
    "ed25e346-2e15-4ab0-bc22-503eb1845e66.png": {
     "image/png": "[encoded data removed]"
    }
   },
   "cell_type": "markdown",
   "id": "9ea4f28e",
   "metadata": {
    "id": "f00ea7c99e44",
    "papermill": {
     "duration": 0.011665,
     "end_time": "2025-07-06T07:11:43.124533",
     "exception": false,
     "start_time": "2025-07-06T07:11:43.112868",
     "status": "completed"
    },
    "tags": []
   },
   "source": [
    "## Get started with Kaggle notebooks\n",
    "\n",
    "If this is your first time using a Kaggle notebook, welcome! You can read about how to use Kaggle notebooks [in the docs](https://www.kaggle.com/docs/notebooks).\n",
    "\n",
    "First, you will need to phone verify your account at kaggle.com/settings.\n",
    "\n",
    "![](https://storage.googleapis.com/kaggle-media/Images/5dgai_0.png)"
   ]
  },
  {
   "cell_type": "markdown",
   "id": "49f6c767",
   "metadata": {
    "papermill": {
     "duration": 0.011711,
     "end_time": "2025-07-06T07:11:43.148108",
     "exception": false,
     "start_time": "2025-07-06T07:11:43.136397",
     "status": "completed"
    },
    "tags": []
   },
   "source": [
    "To run this notebook, as well as the others in this course, you will need to make a copy, or fork, the notebook. Look for the `Copy and Edit` button in the top-right, and **click it** to make an editable, private copy of the notebook. It should look like this one:\n",
    "\n",
    "![Copy and Edit button](https://storage.googleapis.com/kaggle-media/Images/5gdai_sc_1.png)\n",
    "\n",
    "Your copy will now have a ▶️ **Run** button next to each code cell that you can press to execute that cell. These notebooks are expected to be run in order from top-to-bottom, but you are encouraged to add new cells, run your own code and explore. If you get stuck, you can try the `Factory reset` option in the `Run` menu, or head back to the original notebook and make a fresh copy.\n",
    "\n",
    "![Run cell button](https://storage.googleapis.com/kaggle-media/Images/5gdai_sc_2.png)\n",
    "\n",
    "### Problems?\n",
    "\n",
    "If you have any problems, head over to the [Kaggle Discord](https://discord.com/invite/kaggle), find the [`#5dgai-q-and-a` channel](https://discord.com/channels/1101210829807956100/1303438695143178251) and ask for help."
   ]
  },
  {
   "cell_type": "markdown",
   "id": "b1d1f7a0",
   "metadata": {
    "id": "ExkOXcPxtTb5",
    "papermill": {
     "duration": 0.011684,
     "end_time": "2025-07-06T07:11:43.171702",
     "exception": false,
     "start_time": "2025-07-06T07:11:43.160018",
     "status": "completed"
    },
    "tags": []
   },
   "source": [
    "## Get started with the Gemini API\n",
    "\n",
    "All of the exercises in this notebook will use the [Gemini API](https://ai.google.dev/gemini-api/) by way of the [Python SDK](https://pypi.org/project/google-genai/). Each of these prompts can be accessed directly in [Google AI Studio](https://aistudio.google.com/) too, so if you would rather use a web interface and skip the code for this activity, look for the <img src=\"https://ai.google.dev/site-assets/images/marketing/home/icon-ais.png\" style=\"height: 24px\" height=24/> AI Studio link on each prompt."
   ]
  },
  {
   "cell_type": "markdown",
   "id": "57e8772a",
   "metadata": {
    "papermill": {
     "duration": 0.01155,
     "end_time": "2025-07-06T07:11:43.195076",
     "exception": false,
     "start_time": "2025-07-06T07:11:43.183526",
     "status": "completed"
    },
    "tags": []
   },
   "source": [
    "Next, you will need to add your API key to your Kaggle Notebook as a Kaggle User Secret.\n",
    "\n",
    "![](https://storage.googleapis.com/kaggle-media/Images/5dgai_1.png)\n",
    "![](https://storage.googleapis.com/kaggle-media/Images/5dgai_2.png)\n",
    "![](https://storage.googleapis.com/kaggle-media/Images/5dgai_3.png)\n",
    "![](https://storage.googleapis.com/kaggle-media/Images/5dgai_4.png)"
   ]
  },
  {
   "cell_type": "markdown",
   "id": "424c930b",
   "metadata": {
    "id": "UAjUV3BsvFXQ",
    "papermill": {
     "duration": 0.011485,
     "end_time": "2025-07-06T07:11:43.218318",
     "exception": false,
     "start_time": "2025-07-06T07:11:43.206833",
     "status": "completed"
    },
    "tags": []
   },
   "source": [
    "### Install the SDK"
   ]
  },
  {
   "cell_type": "code",
   "execution_count": 2,
   "id": "9c45f1bc",
   "metadata": {
    "execution": {
     "iopub.execute_input": "2025-07-06T07:11:43.243587Z",
     "iopub.status.busy": "2025-07-06T07:11:43.243213Z",
     "iopub.status.idle": "2025-07-06T07:12:01.190505Z",
     "shell.execute_reply": "2025-07-06T07:12:01.189259Z"
    },
    "id": "NzwzJFU9LqkJ",
    "papermill": {
     "duration": 17.962723,
     "end_time": "2025-07-06T07:12:01.192824",
     "exception": false,
     "start_time": "2025-07-06T07:11:43.230101",
     "status": "completed"
    },
    "tags": []
   },
   "outputs": [],
   "source": [
    "!pip uninstall -qqy jupyterlab  # Remove unused packages from Kaggle's base image that conflict\n",
    "!pip install -U -q \"google-genai==1.7.0\""
   ]
  },
  {
   "cell_type": "markdown",
   "id": "38d908b1",
   "metadata": {
    "papermill": {
     "duration": 0.011916,
     "end_time": "2025-07-06T07:12:01.216925",
     "exception": false,
     "start_time": "2025-07-06T07:12:01.205009",
     "status": "completed"
    },
    "tags": []
   },
   "source": [
    "Import the SDK and some helpers for rendering the output."
   ]
  },
  {
   "cell_type": "code",
   "execution_count": 3,
   "id": "b21142a0",
   "metadata": {
    "execution": {
     "iopub.execute_input": "2025-07-06T07:12:01.243066Z",
     "iopub.status.busy": "2025-07-06T07:12:01.242650Z",
     "iopub.status.idle": "2025-07-06T07:12:02.577210Z",
     "shell.execute_reply": "2025-07-06T07:12:02.576281Z"
    },
    "id": "5DwxYIRavMST",
    "papermill": {
     "duration": 1.351507,
     "end_time": "2025-07-06T07:12:02.580443",
     "exception": false,
     "start_time": "2025-07-06T07:12:01.228936",
     "status": "completed"
    },
    "tags": []
   },
   "outputs": [],
   "source": [
    "from google import genai\n",
    "from google.genai import types\n",
    "\n",
    "from IPython.display import HTML, Markdown, display"
   ]
  },
  {
   "cell_type": "markdown",
   "id": "c9135d32",
   "metadata": {
    "papermill": {
     "duration": 0.011952,
     "end_time": "2025-07-06T07:12:02.611438",
     "exception": false,
     "start_time": "2025-07-06T07:12:02.599486",
     "status": "completed"
    },
    "tags": []
   },
   "source": [
    "Set up a retry helper. This allows you to \"Run all\" without worrying about per-minute quota."
   ]
  },
  {
   "cell_type": "code",
   "execution_count": 4,
   "id": "10e87e75",
   "metadata": {
    "execution": {
     "iopub.execute_input": "2025-07-06T07:12:02.637281Z",
     "iopub.status.busy": "2025-07-06T07:12:02.636756Z",
     "iopub.status.idle": "2025-07-06T07:12:02.798224Z",
     "shell.execute_reply": "2025-07-06T07:12:02.797126Z"
    },
    "papermill": {
     "duration": 0.177967,
     "end_time": "2025-07-06T07:12:02.801427",
     "exception": false,
     "start_time": "2025-07-06T07:12:02.623460",
     "status": "completed"
    },
    "tags": []
   },
   "outputs": [],
   "source": [
    "from google.api_core import retry\n",
    "\n",
    "\n",
    "is_retriable = lambda e: (isinstance(e, genai.errors.APIError) and e.code in {429, 503})\n",
    "\n",
    "genai.models.Models.generate_content = retry.Retry(\n",
    "    predicate=is_retriable)(genai.models.Models.generate_content)"
   ]
  },
  {
   "cell_type": "markdown",
   "id": "5321ad86",
   "metadata": {
    "id": "DNEt2BCOvOJ1",
    "papermill": {
     "duration": 0.011927,
     "end_time": "2025-07-06T07:12:02.832031",
     "exception": false,
     "start_time": "2025-07-06T07:12:02.820104",
     "status": "completed"
    },
    "tags": []
   },
   "source": [
    "### Set up your API key\n",
    "\n",
    "To run the following cell, your API key must be stored it in a [Kaggle secret](https://www.kaggle.com/discussions/product-feedback/114053) named `GOOGLE_API_KEY`.\n",
    "\n",
    "If you don't already have an API key, you can grab one from [AI Studio](https://aistudio.google.com/app/apikey). You can find [detailed instructions in the docs](https://ai.google.dev/gemini-api/docs/api-key).\n",
    "\n",
    "To make the key available through Kaggle secrets, choose `Secrets` from the `Add-ons` menu and follow the instructions to add your key or enable it for this notebook."
   ]
  },
  {
   "cell_type": "code",
   "execution_count": 5,
   "id": "7bb79628",
   "metadata": {
    "execution": {
     "iopub.execute_input": "2025-07-06T07:12:02.858124Z",
     "iopub.status.busy": "2025-07-06T07:12:02.857597Z",
     "iopub.status.idle": "2025-07-06T07:12:03.050709Z",
     "shell.execute_reply": "2025-07-06T07:12:03.049588Z"
    },
    "id": "SHl0bkPCvayd",
    "papermill": {
     "duration": 0.20977,
     "end_time": "2025-07-06T07:12:03.053870",
     "exception": false,
     "start_time": "2025-07-06T07:12:02.844100",
     "status": "completed"
    },
    "tags": []
   },
   "outputs": [],
   "source": [
    "from kaggle_secrets import UserSecretsClient\n",
    "\n",
    "GOOGLE_API_KEY = UserSecretsClient().get_secret(\"GOOGLE_API_KEY\")"
   ]
  },
  {
   "attachments": {
    "d2be9aab-2527-48af-b6cf-1f06cdd7c3a7.png": {
     "image/png": "[encoded data removed]"
    }
   },
   "cell_type": "markdown",
   "id": "18d45e8f",
   "metadata": {
    "id": "4e720472fd86",
    "papermill": {
     "duration": 0.0118,
     "end_time": "2025-07-06T07:12:03.086778",
     "exception": false,
     "start_time": "2025-07-06T07:12:03.074978",
     "status": "completed"
    },
    "tags": []
   },
   "source": [
    "If you received an error response along the lines of `No user secrets exist for kernel id ...`, then you need to add your API key via `Add-ons`, `Secrets` **and** enable it.\n",
    "\n",
    "![Screenshot of the checkbox to enable GOOGLE_API_KEY secret](https://storage.googleapis.com/kaggle-media/Images/5gdai_sc_3.png)"
   ]
  },
  {
   "cell_type": "markdown",
   "id": "bcaf0d1d",
   "metadata": {
    "id": "H_YXCYIKvyZJ",
    "papermill": {
     "duration": 0.011635,
     "end_time": "2025-07-06T07:12:03.110411",
     "exception": false,
     "start_time": "2025-07-06T07:12:03.098776",
     "status": "completed"
    },
    "tags": []
   },
   "source": [
    "### Run your first prompt\n",
    "\n",
    "In this step, you will test that your API key is set up correctly by making a request.\n",
    "\n",
    "The Python SDK uses a [`Client` object](https://googleapis.github.io/python-genai/genai.html#genai.client.Client) to make requests to the API. The client lets you control which back-end to use (between the Gemini API and Vertex AI) and handles authentication (the API key).\n",
    "\n",
    "The `gemini-2.0-flash` model has been selected here.\n",
    "\n",
    "**Note**: If you see a `TransportError` on this step, you may need to **🔁 Factory reset** the notebook one time."
   ]
  },
  {
   "cell_type": "code",
   "execution_count": 6,
   "id": "e98fa4d1",
   "metadata": {
    "execution": {
     "iopub.execute_input": "2025-07-06T07:12:03.136166Z",
     "iopub.status.busy": "2025-07-06T07:12:03.135666Z",
     "iopub.status.idle": "2025-07-06T07:12:05.461293Z",
     "shell.execute_reply": "2025-07-06T07:12:05.460240Z"
    },
    "id": "BV1o0PmcvyJF",
    "papermill": {
     "duration": 2.341158,
     "end_time": "2025-07-06T07:12:05.463542",
     "exception": false,
     "start_time": "2025-07-06T07:12:03.122384",
     "status": "completed"
    },
    "tags": []
   },
   "outputs": [
    {
     "name": "stdout",
     "output_type": "stream",
     "text": [
      "Imagine you have a really, really smart robot friend. This robot friend can learn new things, just like you do in school!\n",
      "\n",
      "Instead of learning from books, this robot learns from lots and lots of examples. Like, imagine you want to teach the robot to recognize pictures of cats. You show it thousands and thousands of pictures of cats. The robot looks at all the pictures and starts to notice things that most cats have: pointy ears, whiskers, a tail.\n",
      "\n",
      "Then, when you show the robot a new picture, it can use what it learned to guess if it's a cat or not! That's because it's using something called **artificial intelligence, or AI** for short.\n",
      "\n",
      "AI is like giving a computer a brain that can learn and make decisions, without needing to be told exactly what to do every single time.\n",
      "\n",
      "Think of it like this:\n",
      "\n",
      "*   **You teaching your dog to sit:** You show the dog what \"sit\" means, and give it a treat when it does it right. After a while, the dog learns to sit on command.\n",
      "*   **AI teaching itself to play a video game:** The AI plays the game over and over, and learns what moves help it win. After a lot of practice, the AI can become really good at the game!\n",
      "\n",
      "So, AI helps computers and robots do smart things, like recognize pictures, play games, understand what you say, and even drive cars! It's like magic, but it's all based on learning from lots and lots of examples!\n",
      "\n"
     ]
    }
   ],
   "source": [
    "client = genai.Client(api_key=GOOGLE_API_KEY)\n",
    "\n",
    "response = client.models.generate_content(\n",
    "    model=\"gemini-2.0-flash\",\n",
    "    contents=\"Explain AI to me like I'm a kid.\")\n",
    "\n",
    "print(response.text)"
   ]
  },
  {
   "cell_type": "markdown",
   "id": "0e8cb9d9",
   "metadata": {
    "id": "f60ed9d8ae41",
    "papermill": {
     "duration": 0.011724,
     "end_time": "2025-07-06T07:12:05.487454",
     "exception": false,
     "start_time": "2025-07-06T07:12:05.475730",
     "status": "completed"
    },
    "tags": []
   },
   "source": [
    "The response often comes back in markdown format, which you can render directly in this notebook."
   ]
  },
  {
   "cell_type": "code",
   "execution_count": 7,
   "id": "23451a01",
   "metadata": {
    "execution": {
     "iopub.execute_input": "2025-07-06T07:12:05.513622Z",
     "iopub.status.busy": "2025-07-06T07:12:05.513271Z",
     "iopub.status.idle": "2025-07-06T07:12:05.520625Z",
     "shell.execute_reply": "2025-07-06T07:12:05.519616Z"
    },
    "id": "c933e5e460a5",
    "papermill": {
     "duration": 0.022644,
     "end_time": "2025-07-06T07:12:05.522655",
     "exception": false,
     "start_time": "2025-07-06T07:12:05.500011",
     "status": "completed"
    },
    "tags": []
   },
   "outputs": [
    {
     "data": {
      "text/markdown": [
       "Imagine you have a really, really smart robot friend. This robot friend can learn new things, just like you do in school!\n",
       "\n",
       "Instead of learning from books, this robot learns from lots and lots of examples. Like, imagine you want to teach the robot to recognize pictures of cats. You show it thousands and thousands of pictures of cats. The robot looks at all the pictures and starts to notice things that most cats have: pointy ears, whiskers, a tail.\n",
       "\n",
       "Then, when you show the robot a new picture, it can use what it learned to guess if it's a cat or not! That's because it's using something called **artificial intelligence, or AI** for short.\n",
       "\n",
       "AI is like giving a computer a brain that can learn and make decisions, without needing to be told exactly what to do every single time.\n",
       "\n",
       "Think of it like this:\n",
       "\n",
       "*   **You teaching your dog to sit:** You show the dog what \"sit\" means, and give it a treat when it does it right. After a while, the dog learns to sit on command.\n",
       "*   **AI teaching itself to play a video game:** The AI plays the game over and over, and learns what moves help it win. After a lot of practice, the AI can become really good at the game!\n",
       "\n",
       "So, AI helps computers and robots do smart things, like recognize pictures, play games, understand what you say, and even drive cars! It's like magic, but it's all based on learning from lots and lots of examples!\n"
      ],
      "text/plain": [
       "<IPython.core.display.Markdown object>"
      ]
     },
     "execution_count": 7,
     "metadata": {},
     "output_type": "execute_result"
    }
   ],
   "source": [
    "Markdown(response.text)"
   ]
  },
  {
   "cell_type": "markdown",
   "id": "40d2a675",
   "metadata": {
    "id": "byx0pT9ZMW2Q",
    "papermill": {
     "duration": 0.011954,
     "end_time": "2025-07-06T07:12:05.546796",
     "exception": false,
     "start_time": "2025-07-06T07:12:05.534842",
     "status": "completed"
    },
    "tags": []
   },
   "source": [
    "### Start a chat\n",
    "\n",
    "The previous example uses a single-turn, text-in/text-out structure, but you can also set up a multi-turn chat structure too."
   ]
  },
  {
   "cell_type": "code",
   "execution_count": 8,
   "id": "0debed91",
   "metadata": {
    "execution": {
     "iopub.execute_input": "2025-07-06T07:12:05.573476Z",
     "iopub.status.busy": "2025-07-06T07:12:05.573065Z",
     "iopub.status.idle": "2025-07-06T07:12:05.954320Z",
     "shell.execute_reply": "2025-07-06T07:12:05.953200Z"
    },
    "id": "lV_S5ZL5MidD",
    "papermill": {
     "duration": 0.398228,
     "end_time": "2025-07-06T07:12:05.957494",
     "exception": false,
     "start_time": "2025-07-06T07:12:05.559266",
     "status": "completed"
    },
    "tags": []
   },
   "outputs": [
    {
     "name": "stdout",
     "output_type": "stream",
     "text": [
      "Nice to meet you, Zlork! It's great to have you here. How can I help you today?\n",
      "\n"
     ]
    }
   ],
   "source": [
    "chat = client.chats.create(model='gemini-2.0-flash', history=[])\n",
    "response = chat.send_message('Hello! My name is Zlork.')\n",
    "print(response.text)"
   ]
  },
  {
   "cell_type": "code",
   "execution_count": 9,
   "id": "9f419f06",
   "metadata": {
    "execution": {
     "iopub.execute_input": "2025-07-06T07:12:05.985270Z",
     "iopub.status.busy": "2025-07-06T07:12:05.984862Z",
     "iopub.status.idle": "2025-07-06T07:12:06.984112Z",
     "shell.execute_reply": "2025-07-06T07:12:06.983080Z"
    },
    "id": "7b0372c3c64a",
    "papermill": {
     "duration": 1.015335,
     "end_time": "2025-07-06T07:12:06.986292",
     "exception": false,
     "start_time": "2025-07-06T07:12:05.970957",
     "status": "completed"
    },
    "tags": []
   },
   "outputs": [
    {
     "name": "stdout",
     "output_type": "stream",
     "text": [
      "Okay, here's a fun fact about dinosaurs:\n",
      "\n",
      "**Some dinosaurs may have had iridescent feathers, like a hummingbird!**\n",
      "\n",
      "While we often picture dinosaurs as scaly reptiles, evidence from fossils suggests that many, especially smaller theropods (the group that includes *Tyrannosaurus rex* and birds), had feathers. Even more interesting, the microscopic structures of some of these feathers contain melanosomes, pigment-carrying organelles, that suggest they could have been arranged in a way that created an iridescent sheen. Think of the shimmering colors of a hummingbird or a peacock. So, some dinosaurs might have been surprisingly colorful and flashy!\n",
      "\n"
     ]
    }
   ],
   "source": [
    "response = chat.send_message('Can you tell me something interesting about dinosaurs?')\n",
    "print(response.text)"
   ]
  },
  {
   "cell_type": "markdown",
   "id": "f5a33842",
   "metadata": {
    "papermill": {
     "duration": 0.013483,
     "end_time": "2025-07-06T07:12:07.012398",
     "exception": false,
     "start_time": "2025-07-06T07:12:06.998915",
     "status": "completed"
    },
    "tags": []
   },
   "source": [
    "While you have the `chat` object alive, the conversation state\n",
    "persists. Confirm that by asking if it knows the user's name."
   ]
  },
  {
   "cell_type": "code",
   "execution_count": 10,
   "id": "d5e8c4e0",
   "metadata": {
    "execution": {
     "iopub.execute_input": "2025-07-06T07:12:07.038866Z",
     "iopub.status.busy": "2025-07-06T07:12:07.038517Z",
     "iopub.status.idle": "2025-07-06T07:12:07.309413Z",
     "shell.execute_reply": "2025-07-06T07:12:07.308467Z"
    },
    "id": "d3f9591392a7",
    "papermill": {
     "duration": 0.286793,
     "end_time": "2025-07-06T07:12:07.311635",
     "exception": false,
     "start_time": "2025-07-06T07:12:07.024842",
     "status": "completed"
    },
    "tags": []
   },
   "outputs": [
    {
     "name": "stdout",
     "output_type": "stream",
     "text": [
      "Yes, your name is Zlork.\n",
      "\n"
     ]
    }
   ],
   "source": [
    "response = chat.send_message('Do you remember what my name is?')\n",
    "print(response.text)"
   ]
  },
  {
   "cell_type": "markdown",
   "id": "4bfafbde",
   "metadata": {
    "id": "2KAjpr1200sW",
    "papermill": {
     "duration": 0.012477,
     "end_time": "2025-07-06T07:12:07.336603",
     "exception": false,
     "start_time": "2025-07-06T07:12:07.324126",
     "status": "completed"
    },
    "tags": []
   },
   "source": [
    "### Choose a model\n",
    "\n",
    "The Gemini API provides access to a number of models from the Gemini model family. Read about the available models and their capabilities on the [model overview page](https://ai.google.dev/gemini-api/docs/models/gemini).\n",
    "\n",
    "In this step you'll use the API to list all of the available models."
   ]
  },
  {
   "cell_type": "code",
   "execution_count": 11,
   "id": "9471320c",
   "metadata": {
    "execution": {
     "iopub.execute_input": "2025-07-06T07:12:07.363288Z",
     "iopub.status.busy": "2025-07-06T07:12:07.362892Z",
     "iopub.status.idle": "2025-07-06T07:12:07.428525Z",
     "shell.execute_reply": "2025-07-06T07:12:07.427684Z"
    },
    "id": "uUUZa2uq2jDm",
    "papermill": {
     "duration": 0.081643,
     "end_time": "2025-07-06T07:12:07.430904",
     "exception": false,
     "start_time": "2025-07-06T07:12:07.349261",
     "status": "completed"
    },
    "tags": []
   },
   "outputs": [
    {
     "name": "stdout",
     "output_type": "stream",
     "text": [
      "models/embedding-gecko-001\n",
      "models/gemini-1.0-pro-vision-latest\n",
      "models/gemini-pro-vision\n",
      "models/gemini-1.5-pro-latest\n",
      "models/gemini-1.5-pro-002\n",
      "models/gemini-1.5-pro\n",
      "models/gemini-1.5-flash-latest\n",
      "models/gemini-1.5-flash\n",
      "models/gemini-1.5-flash-002\n",
      "models/gemini-1.5-flash-8b\n",
      "models/gemini-1.5-flash-8b-001\n",
      "models/gemini-1.5-flash-8b-latest\n",
      "models/gemini-2.5-pro-preview-03-25\n",
      "models/gemini-2.5-flash-preview-04-17\n",
      "models/gemini-2.5-flash-preview-05-20\n",
      "models/gemini-2.5-flash\n",
      "models/gemini-2.5-flash-preview-04-17-thinking\n",
      "models/gemini-2.5-flash-lite-preview-06-17\n",
      "models/gemini-2.5-pro-preview-05-06\n",
      "models/gemini-2.5-pro-preview-06-05\n",
      "models/gemini-2.5-pro\n",
      "models/gemini-2.0-flash-exp\n",
      "models/gemini-2.0-flash\n",
      "models/gemini-2.0-flash-001\n",
      "models/gemini-2.0-flash-lite-001\n",
      "models/gemini-2.0-flash-lite\n",
      "models/gemini-2.0-flash-lite-preview-02-05\n",
      "models/gemini-2.0-flash-lite-preview\n",
      "models/gemini-2.0-pro-exp\n",
      "models/gemini-2.0-pro-exp-02-05\n",
      "models/gemini-exp-1206\n",
      "models/gemini-2.0-flash-thinking-exp-01-21\n",
      "models/gemini-2.0-flash-thinking-exp\n",
      "models/gemini-2.0-flash-thinking-exp-1219\n",
      "models/gemini-2.5-flash-preview-tts\n",
      "models/gemini-2.5-pro-preview-tts\n",
      "models/learnlm-2.0-flash-experimental\n",
      "models/gemma-3-1b-it\n",
      "models/gemma-3-4b-it\n",
      "models/gemma-3-12b-it\n",
      "models/gemma-3-27b-it\n",
      "models/gemma-3n-e4b-it\n",
      "models/gemma-3n-e2b-it\n",
      "models/embedding-001\n",
      "models/text-embedding-004\n",
      "models/gemini-embedding-exp-03-07\n",
      "models/gemini-embedding-exp\n",
      "models/aqa\n",
      "models/imagen-3.0-generate-002\n",
      "models/imagen-4.0-generate-preview-06-06\n",
      "models/imagen-4.0-ultra-generate-preview-06-06\n",
      "models/veo-2.0-generate-001\n",
      "models/gemini-2.5-flash-preview-native-audio-dialog\n",
      "models/gemini-2.5-flash-exp-native-audio-thinking-dialog\n",
      "models/gemini-2.0-flash-live-001\n",
      "models/gemini-live-2.5-flash-preview\n"
     ]
    }
   ],
   "source": [
    "for model in client.models.list():\n",
    "  print(model.name)"
   ]
  },
  {
   "cell_type": "markdown",
   "id": "a4c549bb",
   "metadata": {
    "id": "rN49kSI54R1v",
    "papermill": {
     "duration": 0.012268,
     "end_time": "2025-07-06T07:12:07.455514",
     "exception": false,
     "start_time": "2025-07-06T07:12:07.443246",
     "status": "completed"
    },
    "tags": []
   },
   "source": [
    "The [`models.list`](https://ai.google.dev/api/models#method:-models.list) response also returns additional information about the model's capabilities, like the token limits and supported parameters."
   ]
  },
  {
   "cell_type": "code",
   "execution_count": 12,
   "id": "40b2f61e",
   "metadata": {
    "execution": {
     "iopub.execute_input": "2025-07-06T07:12:07.482997Z",
     "iopub.status.busy": "2025-07-06T07:12:07.482623Z",
     "iopub.status.idle": "2025-07-06T07:12:07.518580Z",
     "shell.execute_reply": "2025-07-06T07:12:07.517571Z"
    },
    "id": "k7JJ1K6j4Rl8",
    "papermill": {
     "duration": 0.052663,
     "end_time": "2025-07-06T07:12:07.520856",
     "exception": false,
     "start_time": "2025-07-06T07:12:07.468193",
     "status": "completed"
    },
    "tags": []
   },
   "outputs": [
    {
     "name": "stdout",
     "output_type": "stream",
     "text": [
      "{'description': 'Gemini 2.0 Flash',\n",
      " 'display_name': 'Gemini 2.0 Flash',\n",
      " 'input_token_limit': 1048576,\n",
      " 'name': 'models/gemini-2.0-flash',\n",
      " 'output_token_limit': 8192,\n",
      " 'supported_actions': ['generateContent',\n",
      "                       'countTokens',\n",
      "                       'createCachedContent',\n",
      "                       'batchGenerateContent'],\n",
      " 'tuned_model_info': {},\n",
      " 'version': '2.0'}\n"
     ]
    }
   ],
   "source": [
    "from pprint import pprint\n",
    "\n",
    "for model in client.models.list():\n",
    "  if model.name == 'models/gemini-2.0-flash':\n",
    "    pprint(model.to_json_dict())\n",
    "    break"
   ]
  },
  {
   "cell_type": "markdown",
   "id": "f69fb2f6",
   "metadata": {
    "id": "5rU_UBlZdooM",
    "papermill": {
     "duration": 0.012307,
     "end_time": "2025-07-06T07:12:07.545654",
     "exception": false,
     "start_time": "2025-07-06T07:12:07.533347",
     "status": "completed"
    },
    "tags": []
   },
   "source": [
    "## Explore generation parameters\n",
    "\n"
   ]
  },
  {
   "cell_type": "markdown",
   "id": "df73fbeb",
   "metadata": {
    "id": "G7NfEizeipbW",
    "papermill": {
     "duration": 0.012095,
     "end_time": "2025-07-06T07:12:07.570440",
     "exception": false,
     "start_time": "2025-07-06T07:12:07.558345",
     "status": "completed"
    },
    "tags": []
   },
   "source": [
    "### Output length\n",
    "\n",
    "When generating text with an LLM, the output length affects cost and performance. Generating more tokens increases computation, leading to higher energy consumption, latency, and cost.\n",
    "\n",
    "To stop the model from generating tokens past a limit, you can specify the `max_output_tokens` parameter when using the Gemini API. Specifying this parameter does not influence the generation of the output tokens, so the output will not become more stylistically or textually succinct, but it will stop generating tokens once the specified length is reached. Prompt engineering may be required to generate a more complete output for your given limit."
   ]
  },
  {
   "cell_type": "code",
   "execution_count": 13,
   "id": "5628e08a",
   "metadata": {
    "execution": {
     "iopub.execute_input": "2025-07-06T07:12:07.599683Z",
     "iopub.status.busy": "2025-07-06T07:12:07.598867Z",
     "iopub.status.idle": "2025-07-06T07:12:09.005890Z",
     "shell.execute_reply": "2025-07-06T07:12:09.004672Z"
    },
    "id": "qVf23JsIi9ma",
    "papermill": {
     "duration": 1.423262,
     "end_time": "2025-07-06T07:12:09.007924",
     "exception": false,
     "start_time": "2025-07-06T07:12:07.584662",
     "status": "completed"
    },
    "tags": []
   },
   "outputs": [
    {
     "name": "stdout",
     "output_type": "stream",
     "text": [
      "## The Olive Branch Reaches Across the Globe: The Enduring Importance of Olives in Modern Society\n",
      "\n",
      "The olive, a fruit that has nourished and sustained civilizations for millennia, continues to hold a position of remarkable importance in modern society. More than just a flavorful addition to our plates and a source of health-boosting oil, the olive represents a confluence of culture, history, economy, and increasingly, sustainable agricultural practices. From the sun-drenched groves of the Mediterranean to the innovative farms sprouting in the Americas and Australia, the olive tree and its precious fruit have woven themselves into the fabric of our globalized world, offering a complex tapestry of benefits that extend far beyond simple consumption.\n",
      "\n",
      "One of the most enduring contributions of the olive is its central role in culinary traditions. The Mediterranean diet, lauded for its health benefits and recognized by UNESCO as an Intangible Cultural Heritage of Humanity, hinges on the consumption of olive oil as the primary source of fat. This dietary foundation, rich in monouns\n"
     ]
    }
   ],
   "source": [
    "from google.genai import types\n",
    "\n",
    "short_config = types.GenerateContentConfig(max_output_tokens=200)\n",
    "\n",
    "response = client.models.generate_content(\n",
    "    model='gemini-2.0-flash',\n",
    "    config=short_config,\n",
    "    contents='Write a 1000 word essay on the importance of olives in modern society.')\n",
    "\n",
    "print(response.text)"
   ]
  },
  {
   "cell_type": "code",
   "execution_count": 14,
   "id": "c17d2677",
   "metadata": {
    "execution": {
     "iopub.execute_input": "2025-07-06T07:12:09.035192Z",
     "iopub.status.busy": "2025-07-06T07:12:09.034786Z",
     "iopub.status.idle": "2025-07-06T07:12:09.838215Z",
     "shell.execute_reply": "2025-07-06T07:12:09.837038Z"
    },
    "id": "W-3kR2F5kdMR",
    "papermill": {
     "duration": 0.819754,
     "end_time": "2025-07-06T07:12:09.840536",
     "exception": false,
     "start_time": "2025-07-06T07:12:09.020782",
     "status": "completed"
    },
    "tags": []
   },
   "outputs": [
    {
     "name": "stdout",
     "output_type": "stream",
     "text": [
      "From ancient groves, a legacy untold,\n",
      "The olive thrives, a story to unfold.\n",
      "In salads bright, a briny, verdant gleam,\n",
      "Or pressed to oil, a culinary dream.\n",
      "\n",
      "On pizzas scattered, tapenades so bold,\n",
      "A taste of sunshine, worth more than pure gold.\n",
      "A symbol peaceful, of a fruitful life,\n",
      "The humble olive, cuts through modern strife.\n",
      "\n"
     ]
    }
   ],
   "source": [
    "response = client.models.generate_content(\n",
    "    model='gemini-2.0-flash',\n",
    "    config=short_config,\n",
    "    contents='Write a short poem on the importance of olives in modern society.')\n",
    "\n",
    "print(response.text)"
   ]
  },
  {
   "cell_type": "markdown",
   "id": "da360753",
   "metadata": {
    "id": "3ZhDSLB6lqqB",
    "papermill": {
     "duration": 0.012425,
     "end_time": "2025-07-06T07:12:09.866048",
     "exception": false,
     "start_time": "2025-07-06T07:12:09.853623",
     "status": "completed"
    },
    "tags": []
   },
   "source": [
    "Explore with your own prompts. Try a prompt with a restrictive output limit and then adjust the prompt to work within that limit."
   ]
  },
  {
   "cell_type": "markdown",
   "id": "f578e60a",
   "metadata": {
    "id": "alx-WaAvir_9",
    "papermill": {
     "duration": 0.012378,
     "end_time": "2025-07-06T07:12:09.891183",
     "exception": false,
     "start_time": "2025-07-06T07:12:09.878805",
     "status": "completed"
    },
    "tags": []
   },
   "source": [
    "### Temperature\n",
    "\n",
    "Temperature controls the degree of randomness in token selection. Higher temperatures result in a higher number of candidate tokens from which the next output token is selected, and can produce more diverse results, while lower temperatures have the opposite effect, such that a temperature of 0 results in greedy decoding, selecting the most probable token at each step.\n",
    "\n",
    "Temperature doesn't provide any guarantees of randomness, but it can be used to \"nudge\" the output somewhat."
   ]
  },
  {
   "cell_type": "code",
   "execution_count": 15,
   "id": "a1ec175d",
   "metadata": {
    "execution": {
     "iopub.execute_input": "2025-07-06T07:12:09.918303Z",
     "iopub.status.busy": "2025-07-06T07:12:09.917846Z",
     "iopub.status.idle": "2025-07-06T07:12:11.333630Z",
     "shell.execute_reply": "2025-07-06T07:12:11.332453Z"
    },
    "id": "SHraGMzqnZqt",
    "papermill": {
     "duration": 1.432077,
     "end_time": "2025-07-06T07:12:11.335965",
     "exception": false,
     "start_time": "2025-07-06T07:12:09.903888",
     "status": "completed"
    },
    "tags": []
   },
   "outputs": [
    {
     "name": "stdout",
     "output_type": "stream",
     "text": [
      "Mauve.\n",
      " -------------------------\n",
      "Azure\n",
      " -------------------------\n",
      "Magenta\n",
      " -------------------------\n",
      "Orange\n",
      " -------------------------\n",
      "Azure\n",
      " -------------------------\n"
     ]
    }
   ],
   "source": [
    "high_temp_config = types.GenerateContentConfig(temperature=2.0)\n",
    "\n",
    "\n",
    "for _ in range(5):\n",
    "  response = client.models.generate_content(\n",
    "      model='gemini-2.0-flash',\n",
    "      config=high_temp_config,\n",
    "      contents='Pick a random colour... (respond in a single word)')\n",
    "\n",
    "  if response.text:\n",
    "    print(response.text, '-' * 25)"
   ]
  },
  {
   "cell_type": "markdown",
   "id": "616ad82c",
   "metadata": {
    "id": "z3J4pCTuof7e",
    "papermill": {
     "duration": 0.013047,
     "end_time": "2025-07-06T07:12:11.362102",
     "exception": false,
     "start_time": "2025-07-06T07:12:11.349055",
     "status": "completed"
    },
    "tags": []
   },
   "source": [
    "Now try the same prompt with temperature set to zero. Note that the output is not completely deterministic, as other parameters affect token selection, but the results will tend to be more stable."
   ]
  },
  {
   "cell_type": "code",
   "execution_count": 16,
   "id": "32c6a124",
   "metadata": {
    "execution": {
     "iopub.execute_input": "2025-07-06T07:12:11.390492Z",
     "iopub.status.busy": "2025-07-06T07:12:11.390071Z",
     "iopub.status.idle": "2025-07-06T07:12:12.609322Z",
     "shell.execute_reply": "2025-07-06T07:12:12.608239Z"
    },
    "id": "clymkWv-PfUZ",
    "papermill": {
     "duration": 1.23594,
     "end_time": "2025-07-06T07:12:12.611544",
     "exception": false,
     "start_time": "2025-07-06T07:12:11.375604",
     "status": "completed"
    },
    "tags": []
   },
   "outputs": [
    {
     "name": "stdout",
     "output_type": "stream",
     "text": [
      "Azure\n",
      " -------------------------\n",
      "Azure\n",
      " -------------------------\n",
      "Azure\n",
      " -------------------------\n",
      "Azure\n",
      " -------------------------\n",
      "Azure\n",
      " -------------------------\n"
     ]
    }
   ],
   "source": [
    "low_temp_config = types.GenerateContentConfig(temperature=0.0)\n",
    "\n",
    "for _ in range(5):\n",
    "  response = client.models.generate_content(\n",
    "      model='gemini-2.0-flash',\n",
    "      config=low_temp_config,\n",
    "      contents='Pick a random colour... (respond in a single word)')\n",
    "\n",
    "  if response.text:\n",
    "    print(response.text, '-' * 25)"
   ]
  },
  {
   "cell_type": "markdown",
   "id": "1c8dfc8e",
   "metadata": {
    "id": "St5nt3vzitsZ",
    "papermill": {
     "duration": 0.013996,
     "end_time": "2025-07-06T07:12:12.639731",
     "exception": false,
     "start_time": "2025-07-06T07:12:12.625735",
     "status": "completed"
    },
    "tags": []
   },
   "source": [
    "### Top-P\n",
    "\n",
    "Like temperature, the top-P parameter is also used to control the diversity of the model's output.\n",
    "\n",
    "Top-P defines the probability threshold that, once cumulatively exceeded, tokens stop being selected as candidates. A top-P of 0 is typically equivalent to greedy decoding, and a top-P of 1 typically selects every token in the model's vocabulary.\n",
    "\n",
    "You may also see top-K referenced in LLM literature. Top-K is not configurable in the Gemini 2.0 series of models, but can be changed in older models. Top-K is a positive integer that defines the number of most probable tokens from which to select the output token. A top-K of 1 selects a single token, performing greedy decoding.\n",
    "\n",
    "\n",
    "Run this example a number of times, change the settings and observe the change in output."
   ]
  },
  {
   "cell_type": "code",
   "execution_count": 17,
   "id": "2812c648",
   "metadata": {
    "execution": {
     "iopub.execute_input": "2025-07-06T07:12:12.668690Z",
     "iopub.status.busy": "2025-07-06T07:12:12.668323Z",
     "iopub.status.idle": "2025-07-06T07:13:17.190501Z",
     "shell.execute_reply": "2025-07-06T07:13:17.189502Z"
    },
    "id": "lPlzpEavUV8F",
    "papermill": {
     "duration": 64.552731,
     "end_time": "2025-07-06T07:13:17.206100",
     "exception": false,
     "start_time": "2025-07-06T07:12:12.653369",
     "status": "completed"
    },
    "tags": []
   },
   "outputs": [
    {
     "name": "stdout",
     "output_type": "stream",
     "text": [
      "Whiskers twitching, Jasper, a ginger tabby of discerning taste and questionable courage, surveyed his domain: Mrs. Higgins' sun-drenched windowsill. Life was good. Naps were plentiful, tuna was abundant, and the neighborhood squirrels were hilariously inept at escaping his silent stalk. Yet, a restlessness, a ginger itch, gnawed at him. Today, the windowsill felt like a cage.\n",
      "\n",
      "The cause of his discontent was the wind. It carried scents of the world beyond Mrs. Higgins' garden – a tang of salt, a whiff of grilling meat, and, most alluringly, the earthy perfume of unknown blooms. Today, Jasper wouldn't just watch the world; he would conquer it.\n",
      "\n",
      "He stretched, a dramatic, spine-arching affair, then leaped to the floor, landing with a soft thud. He sauntered to the back door, a picture of nonchalance. Mrs. Higgins, bless her fluffy slippers, had left it ajar. Destiny beckoned.\n",
      "\n",
      "Outside, the garden was a jungle. Towering sunflowers loomed like disapproving giants. He crept past, his tail twitching with apprehension, until he reached the fence. It was a daunting barrier, but the scent of adventure was intoxicating. He scrambled, his claws finding purchase in the weathered wood, and pulled himself to the top.\n",
      "\n",
      "The world exploded. Beyond the familiar confines of Mrs. Higgins' garden lay a tapestry of sights and sounds. Cars roared, dogs barked, and children shrieked with laughter. He was terrified, but the ginger itch had transformed into a thrilling tingle.\n",
      "\n",
      "He descended into a riot of honeysuckle and bumblebees, finding himself on a narrow lane. The grilling meat scent grew stronger. He followed it, a small ginger explorer in a brave new world. The scent led him to a bustling butcher shop. He peered through the window, mesmerized by the pink mountains of sausages and the glistening slabs of beef.\n",
      "\n",
      "Suddenly, a blur of feathers erupted in front of him. A pigeon, bold and belligerent, landed inches from his nose. It puffed out its chest, cooing a challenge. Jasper, despite his yearning for adventure, was a house cat. Confronted with real danger, his courage faltered. He hissed, a pathetic, unconvincing sound, and backed away.\n",
      "\n",
      "The pigeon, emboldened, pecked at his nose. Jasper bolted.\n",
      "\n",
      "He ran blindly, his ears flat against his head, until he found himself huddled under a prickly rosebush, panting and ashamed. The grilling meat, the unknown blooms, the thrill of the unknown – it all seemed foolish now. He was just a small, scared cat.\n",
      "\n",
      "Then, a small, familiar voice pierced the air. \"Jasper? Jasper, where are you, darling?\"\n",
      "\n",
      "It was Mrs. Higgins.\n",
      "\n",
      "Relief flooded through him. He crawled out from under the rosebush and meowed, a weak, pathetic sound. Mrs. Higgins gasped, her eyes widening.\n",
      "\n",
      "\"Jasper! You naughty boy! You scared me half to death!\" She scooped him into her arms, burying her face in his fur.\n",
      "\n",
      "He purred, a rumble of contentment. The adventure had been terrifying, but it had also shown him something important: the greatest adventures are the ones that lead you back home.\n",
      "\n",
      "Mrs. Higgins carried him back through the garden, past the disapproving sunflowers, and back into the sun-drenched haven of the windowsill. She even gave him an extra helping of tuna. As he ate, he looked out at the world beyond the fence, no longer yearning, but content. He was home, safe, and loved. And maybe, just maybe, tomorrow he'd try conquering the world again. After a nap, of course. He was still a cat of discerning taste.\n",
      "\n"
     ]
    }
   ],
   "source": [
    "model_config = types.GenerateContentConfig(\n",
    "    # These are the default values for gemini-2.0-flash.\n",
    "    temperature=1.0,\n",
    "    top_p=0.95,\n",
    ")\n",
    "\n",
    "story_prompt = \"You are a creative writer. Write a short story about a cat who goes on an adventure.\"\n",
    "response = client.models.generate_content(\n",
    "    model='gemini-2.0-flash',\n",
    "    config=model_config,\n",
    "    contents=story_prompt)\n",
    "\n",
    "print(response.text)"
   ]
  },
  {
   "cell_type": "markdown",
   "id": "e63b89d6",
   "metadata": {
    "id": "rMrYs1koY6DX",
    "papermill": {
     "duration": 0.013111,
     "end_time": "2025-07-06T07:13:17.232583",
     "exception": false,
     "start_time": "2025-07-06T07:13:17.219472",
     "status": "completed"
    },
    "tags": []
   },
   "source": [
    "## Prompting\n",
    "\n",
    "This section contains some prompts from the chapter for you to try out directly in the API. Try changing the text here to see how each prompt performs with different instructions, more examples, or any other changes you can think of."
   ]
  },
  {
   "cell_type": "markdown",
   "id": "c566b067",
   "metadata": {
    "id": "hhj_tQidZJP7",
    "papermill": {
     "duration": 0.013069,
     "end_time": "2025-07-06T07:13:17.259001",
     "exception": false,
     "start_time": "2025-07-06T07:13:17.245932",
     "status": "completed"
    },
    "tags": []
   },
   "source": [
    "### Zero-shot\n",
    "\n",
    "Zero-shot prompts are prompts that describe the request for the model directly.\n",
    "\n",
    "<table align=left>\n",
    "  <td>\n",
    "    <a target=\"_blank\" href=\"https://aistudio.google.com/prompts/1gzKKgDHwkAvexG5Up0LMtl1-6jKMKe4g\"><img src=\"https://ai.google.dev/site-assets/images/marketing/home/icon-ais.png\" style=\"height: 24px\" height=24/> Open in AI Studio</a>\n",
    "  </td>\n",
    "</table>"
   ]
  },
  {
   "cell_type": "code",
   "execution_count": 18,
   "id": "1d0824a2",
   "metadata": {
    "execution": {
     "iopub.execute_input": "2025-07-06T07:13:17.288186Z",
     "iopub.status.busy": "2025-07-06T07:13:17.287449Z",
     "iopub.status.idle": "2025-07-06T07:13:17.674822Z",
     "shell.execute_reply": "2025-07-06T07:13:17.673622Z"
    },
    "id": "1_t-cwnDZzbH",
    "papermill": {
     "duration": 0.404153,
     "end_time": "2025-07-06T07:13:17.676872",
     "exception": false,
     "start_time": "2025-07-06T07:13:17.272719",
     "status": "completed"
    },
    "tags": []
   },
   "outputs": [
    {
     "name": "stdout",
     "output_type": "stream",
     "text": [
      "POSITIVE\n",
      "\n"
     ]
    }
   ],
   "source": [
    "model_config = types.GenerateContentConfig(\n",
    "    temperature=0.1,\n",
    "    top_p=1,\n",
    "    max_output_tokens=5,\n",
    ")\n",
    "\n",
    "zero_shot_prompt = \"\"\"Classify movie reviews as POSITIVE, NEUTRAL or NEGATIVE.\n",
    "Review: \"Her\" is a disturbing study revealing the direction\n",
    "humanity is headed if AI is allowed to keep evolving,\n",
    "unchecked. I wish there were more movies like this masterpiece.\n",
    "Sentiment: \"\"\"\n",
    "\n",
    "response = client.models.generate_content(\n",
    "    model='gemini-2.0-flash',\n",
    "    config=model_config,\n",
    "    contents=zero_shot_prompt)\n",
    "\n",
    "print(response.text)"
   ]
  },
  {
   "cell_type": "markdown",
   "id": "1ee640c1",
   "metadata": {
    "id": "3b5568bdeb11",
    "papermill": {
     "duration": 0.013147,
     "end_time": "2025-07-06T07:13:17.704380",
     "exception": false,
     "start_time": "2025-07-06T07:13:17.691233",
     "status": "completed"
    },
    "tags": []
   },
   "source": [
    "#### Enum mode\n",
    "\n",
    "The models are trained to generate text, and while the Gemini 2.0 models are great at following instructions, other models can sometimes produce more text than you may wish for. In the preceding example, the model will output the label, but sometimes it can include a preceding \"Sentiment\" label, and without an output token limit, it may also add explanatory text afterwards. See [this prompt in AI Studio](https://aistudio.google.com/prompts/1gzKKgDHwkAvexG5Up0LMtl1-6jKMKe4g) for an example.\n",
    "\n",
    "The Gemini API has an [Enum mode](https://github.com/google-gemini/cookbook/blob/main/quickstarts/Enum.ipynb) feature that allows you to constrain the output to a fixed set of values."
   ]
  },
  {
   "cell_type": "code",
   "execution_count": 19,
   "id": "b0420f3d",
   "metadata": {
    "execution": {
     "iopub.execute_input": "2025-07-06T07:13:17.733214Z",
     "iopub.status.busy": "2025-07-06T07:13:17.732809Z",
     "iopub.status.idle": "2025-07-06T07:13:18.178921Z",
     "shell.execute_reply": "2025-07-06T07:13:18.177875Z"
    },
    "id": "ad118a56c598",
    "papermill": {
     "duration": 0.463158,
     "end_time": "2025-07-06T07:13:18.181115",
     "exception": false,
     "start_time": "2025-07-06T07:13:17.717957",
     "status": "completed"
    },
    "tags": []
   },
   "outputs": [
    {
     "name": "stdout",
     "output_type": "stream",
     "text": [
      "positive\n"
     ]
    }
   ],
   "source": [
    "import enum\n",
    "\n",
    "class Sentiment(enum.Enum):\n",
    "    POSITIVE = \"positive\"\n",
    "    NEUTRAL = \"neutral\"\n",
    "    NEGATIVE = \"negative\"\n",
    "\n",
    "\n",
    "response = client.models.generate_content(\n",
    "    model='gemini-2.0-flash',\n",
    "    config=types.GenerateContentConfig(\n",
    "        response_mime_type=\"text/x.enum\",\n",
    "        response_schema=Sentiment\n",
    "    ),\n",
    "    contents=zero_shot_prompt)\n",
    "\n",
    "print(response.text)"
   ]
  },
  {
   "cell_type": "markdown",
   "id": "4cbab196",
   "metadata": {
    "papermill": {
     "duration": 0.013606,
     "end_time": "2025-07-06T07:13:18.208258",
     "exception": false,
     "start_time": "2025-07-06T07:13:18.194652",
     "status": "completed"
    },
    "tags": []
   },
   "source": [
    "When using constrained output like an enum, the Python SDK will attempt to convert the model's text response into a Python object automatically. It's stored in the `response.parsed` field."
   ]
  },
  {
   "cell_type": "code",
   "execution_count": 20,
   "id": "82212639",
   "metadata": {
    "execution": {
     "iopub.execute_input": "2025-07-06T07:13:18.237699Z",
     "iopub.status.busy": "2025-07-06T07:13:18.236976Z",
     "iopub.status.idle": "2025-07-06T07:13:18.242384Z",
     "shell.execute_reply": "2025-07-06T07:13:18.241378Z"
    },
    "papermill": {
     "duration": 0.022393,
     "end_time": "2025-07-06T07:13:18.244483",
     "exception": false,
     "start_time": "2025-07-06T07:13:18.222090",
     "status": "completed"
    },
    "tags": []
   },
   "outputs": [
    {
     "name": "stdout",
     "output_type": "stream",
     "text": [
      "Sentiment.POSITIVE\n",
      "<enum 'Sentiment'>\n"
     ]
    }
   ],
   "source": [
    "enum_response = response.parsed\n",
    "print(enum_response)\n",
    "print(type(enum_response))"
   ]
  },
  {
   "cell_type": "markdown",
   "id": "682a3a20",
   "metadata": {
    "id": "0udiSwNbv45W",
    "papermill": {
     "duration": 0.013659,
     "end_time": "2025-07-06T07:13:18.272541",
     "exception": false,
     "start_time": "2025-07-06T07:13:18.258882",
     "status": "completed"
    },
    "tags": []
   },
   "source": [
    "### One-shot and few-shot\n",
    "\n",
    "Providing an example of the expected response is known as a \"one-shot\" prompt. When you provide multiple examples, it is a \"few-shot\" prompt.\n",
    "\n",
    "<table align=left>\n",
    "  <td>\n",
    "    <a target=\"_blank\" href=\"https://aistudio.google.com/prompts/1jjWkjUSoMXmLvMJ7IzADr_GxHPJVV2bg\"><img src=\"https://ai.google.dev/site-assets/images/marketing/home/icon-ais.png\" style=\"height: 24px\" height=24/> Open in AI Studio</a>\n",
    "  </td>\n",
    "</table>\n"
   ]
  },
  {
   "cell_type": "code",
   "execution_count": 21,
   "id": "e26c1390",
   "metadata": {
    "execution": {
     "iopub.execute_input": "2025-07-06T07:13:18.301392Z",
     "iopub.status.busy": "2025-07-06T07:13:18.301001Z",
     "iopub.status.idle": "2025-07-06T07:13:18.843073Z",
     "shell.execute_reply": "2025-07-06T07:13:18.841881Z"
    },
    "id": "hd4mVUukwOKZ",
    "papermill": {
     "duration": 0.559066,
     "end_time": "2025-07-06T07:13:18.845328",
     "exception": false,
     "start_time": "2025-07-06T07:13:18.286262",
     "status": "completed"
    },
    "tags": []
   },
   "outputs": [
    {
     "name": "stdout",
     "output_type": "stream",
     "text": [
      "```json\n",
      "{\n",
      "\"size\": \"large\",\n",
      "\"type\": \"normal\",\n",
      "\"ingredients\": [\"cheese\", \"pineapple\"]\n",
      "}\n",
      "```\n",
      "\n"
     ]
    }
   ],
   "source": [
    "few_shot_prompt = \"\"\"Parse a customer's pizza order into valid JSON:\n",
    "\n",
    "EXAMPLE:\n",
    "I want a small pizza with cheese, tomato sauce, and pepperoni.\n",
    "JSON Response:\n",
    "```\n",
    "{\n",
    "\"size\": \"small\",\n",
    "\"type\": \"normal\",\n",
    "\"ingredients\": [\"cheese\", \"tomato sauce\", \"pepperoni\"]\n",
    "}\n",
    "```\n",
    "\n",
    "EXAMPLE:\n",
    "Can I get a large pizza with tomato sauce, basil and mozzarella\n",
    "JSON Response:\n",
    "```\n",
    "{\n",
    "\"size\": \"large\",\n",
    "\"type\": \"normal\",\n",
    "\"ingredients\": [\"tomato sauce\", \"basil\", \"mozzarella\"]\n",
    "}\n",
    "```\n",
    "\n",
    "ORDER:\n",
    "\"\"\"\n",
    "\n",
    "customer_order = \"Give me a large with cheese & pineapple\"\n",
    "\n",
    "response = client.models.generate_content(\n",
    "    model='gemini-2.0-flash',\n",
    "    config=types.GenerateContentConfig(\n",
    "        temperature=0.1,\n",
    "        top_p=1,\n",
    "        max_output_tokens=250,\n",
    "    ),\n",
    "    contents=[few_shot_prompt, customer_order])\n",
    "\n",
    "print(response.text)"
   ]
  },
  {
   "cell_type": "markdown",
   "id": "48144c65",
   "metadata": {
    "id": "021293096f08",
    "papermill": {
     "duration": 0.014051,
     "end_time": "2025-07-06T07:13:18.873902",
     "exception": false,
     "start_time": "2025-07-06T07:13:18.859851",
     "status": "completed"
    },
    "tags": []
   },
   "source": [
    "#### JSON mode\n",
    "\n",
    "To provide control over the schema, and to ensure that you only receive JSON (with no other text or markdown), you can use the Gemini API's [JSON mode](https://github.com/google-gemini/cookbook/blob/main/quickstarts/JSON_mode.ipynb). This forces the model to constrain decoding, such that token selection is guided by the supplied schema."
   ]
  },
  {
   "cell_type": "code",
   "execution_count": 22,
   "id": "c2838061",
   "metadata": {
    "execution": {
     "iopub.execute_input": "2025-07-06T07:13:18.903241Z",
     "iopub.status.busy": "2025-07-06T07:13:18.902850Z",
     "iopub.status.idle": "2025-07-06T07:13:19.602541Z",
     "shell.execute_reply": "2025-07-06T07:13:19.601447Z"
    },
    "id": "50fbf0260912",
    "papermill": {
     "duration": 0.716962,
     "end_time": "2025-07-06T07:13:19.604738",
     "exception": false,
     "start_time": "2025-07-06T07:13:18.887776",
     "status": "completed"
    },
    "tags": []
   },
   "outputs": [
    {
     "name": "stdout",
     "output_type": "stream",
     "text": [
      "{\n",
      "  \"size\": \"large\",\n",
      "  \"ingredients\": [\"apple\", \"chocolate\"],\n",
      "  \"type\": \"dessert\"\n",
      "}\n"
     ]
    }
   ],
   "source": [
    "import typing_extensions as typing\n",
    "\n",
    "class PizzaOrder(typing.TypedDict):\n",
    "    size: str\n",
    "    ingredients: list[str]\n",
    "    type: str\n",
    "\n",
    "\n",
    "response = client.models.generate_content(\n",
    "    model='gemini-2.0-flash',\n",
    "    config=types.GenerateContentConfig(\n",
    "        temperature=0.1,\n",
    "        response_mime_type=\"application/json\",\n",
    "        response_schema=PizzaOrder,\n",
    "    ),\n",
    "    contents=\"Can I have a large dessert pizza with apple and chocolate\")\n",
    "\n",
    "print(response.text)"
   ]
  },
  {
   "cell_type": "markdown",
   "id": "c41fcecb",
   "metadata": {
    "id": "4a93e338e57c",
    "papermill": {
     "duration": 0.013317,
     "end_time": "2025-07-06T07:13:19.632101",
     "exception": false,
     "start_time": "2025-07-06T07:13:19.618784",
     "status": "completed"
    },
    "tags": []
   },
   "source": [
    "### Chain of Thought (CoT)\n",
    "\n",
    "Direct prompting on LLMs can return answers quickly and (in terms of output token usage) efficiently, but they can be prone to hallucination. The answer may \"look\" correct (in terms of language and syntax) but is incorrect in terms of factuality and reasoning.\n",
    "\n",
    "Chain-of-Thought prompting is a technique where you instruct the model to output intermediate reasoning steps, and it typically gets better results, especially when combined with few-shot examples. It is worth noting that this technique doesn't completely eliminate hallucinations, and that it tends to cost more to run, due to the increased token count.\n",
    "\n",
    "Models like the Gemini family are trained to be \"chatty\" or \"thoughtful\" and will provide reasoning steps without prompting, so for this simple example you can ask the model to be more direct in the prompt to force a non-reasoning response. Try re-running this step if the model gets lucky and gets the answer correct on the first try."
   ]
  },
  {
   "cell_type": "code",
   "execution_count": 23,
   "id": "d757b7a4",
   "metadata": {
    "execution": {
     "iopub.execute_input": "2025-07-06T07:13:19.661266Z",
     "iopub.status.busy": "2025-07-06T07:13:19.660795Z",
     "iopub.status.idle": "2025-07-06T07:13:20.046619Z",
     "shell.execute_reply": "2025-07-06T07:13:20.045480Z"
    },
    "id": "5715555db1c1",
    "papermill": {
     "duration": 0.402946,
     "end_time": "2025-07-06T07:13:20.048743",
     "exception": false,
     "start_time": "2025-07-06T07:13:19.645797",
     "status": "completed"
    },
    "tags": []
   },
   "outputs": [
    {
     "name": "stdout",
     "output_type": "stream",
     "text": [
      "52\n",
      "\n"
     ]
    }
   ],
   "source": [
    "prompt = \"\"\"When I was 4 years old, my partner was 3 times my age. Now, I\n",
    "am 20 years old. How old is my partner? Return the answer directly.\"\"\"\n",
    "\n",
    "response = client.models.generate_content(\n",
    "    model='gemini-2.0-flash',\n",
    "    contents=prompt)\n",
    "\n",
    "print(response.text)"
   ]
  },
  {
   "cell_type": "markdown",
   "id": "2bf3fa31",
   "metadata": {
    "id": "e12b19677bfd",
    "papermill": {
     "duration": 0.013851,
     "end_time": "2025-07-06T07:13:20.076683",
     "exception": false,
     "start_time": "2025-07-06T07:13:20.062832",
     "status": "completed"
    },
    "tags": []
   },
   "source": [
    "Now try the same approach, but indicate to the model that it should \"think step by step\"."
   ]
  },
  {
   "cell_type": "code",
   "execution_count": 24,
   "id": "54f56574",
   "metadata": {
    "execution": {
     "iopub.execute_input": "2025-07-06T07:13:20.106451Z",
     "iopub.status.busy": "2025-07-06T07:13:20.106018Z",
     "iopub.status.idle": "2025-07-06T07:13:21.021165Z",
     "shell.execute_reply": "2025-07-06T07:13:21.020197Z"
    },
    "id": "ffd7536a481f",
    "papermill": {
     "duration": 0.93262,
     "end_time": "2025-07-06T07:13:21.023208",
     "exception": false,
     "start_time": "2025-07-06T07:13:20.090588",
     "status": "completed"
    },
    "tags": []
   },
   "outputs": [
    {
     "data": {
      "text/markdown": [
       "Here's how to solve this problem step-by-step:\n",
       "\n",
       "1. **Find the age difference:** When you were 4, your partner was 3 times your age, meaning they were 4 * 3 = 12 years old.\n",
       "2. **Calculate the age difference:** The age difference between you and your partner is 12 - 4 = 8 years.\n",
       "3. **Determine the partner's current age:** Since the age difference remains constant, your partner is always 8 years older than you. Now that you are 20, your partner is 20 + 8 = 28 years old.\n",
       "\n",
       "**Therefore, your partner is currently 28 years old.**"
      ],
      "text/plain": [
       "<IPython.core.display.Markdown object>"
      ]
     },
     "execution_count": 24,
     "metadata": {},
     "output_type": "execute_result"
    }
   ],
   "source": [
    "prompt = \"\"\"When I was 4 years old, my partner was 3 times my age. Now,\n",
    "I am 20 years old. How old is my partner? Let's think step by step.\"\"\"\n",
    "\n",
    "response = client.models.generate_content(\n",
    "    model='gemini-2.0-flash',\n",
    "    contents=prompt)\n",
    "\n",
    "Markdown(response.text)"
   ]
  },
  {
   "cell_type": "markdown",
   "id": "546283bf",
   "metadata": {
    "id": "oiLgBQJj0V53",
    "papermill": {
     "duration": 0.013645,
     "end_time": "2025-07-06T07:13:21.051092",
     "exception": false,
     "start_time": "2025-07-06T07:13:21.037447",
     "status": "completed"
    },
    "tags": []
   },
   "source": [
    "### ReAct: Reason and act\n",
    "\n",
    "In this example you will run a ReAct prompt directly in the Gemini API and perform the searching steps yourself. As this prompt follows a well-defined structure, there are frameworks available that wrap the prompt into easier-to-use APIs that make tool calls automatically, such as the LangChain example from the \"Prompting\" whitepaper.\n",
    "\n",
    "To try this out with the Wikipedia search engine, check out the [Searching Wikipedia with ReAct](https://github.com/google-gemini/cookbook/blob/main/examples/Search_Wikipedia_using_ReAct.ipynb) cookbook example.\n",
    "\n",
    "\n",
    "> Note: The prompt and in-context examples used here are from [https://github.com/ysymyth/ReAct](https://github.com/ysymyth/ReAct) which is published under an [MIT license](https://opensource.org/licenses/MIT), Copyright (c) 2023 Shunyu Yao.\n",
    "\n",
    "<table align=left>\n",
    "  <td>\n",
    "    <a target=\"_blank\" href=\"https://aistudio.google.com/prompts/18oo63Lwosd-bQ6Ay51uGogB3Wk3H8XMO\"><img src=\"https://ai.google.dev/site-assets/images/marketing/home/icon-ais.png\" style=\"height: 24px\" height=24/> Open in AI Studio</a>\n",
    "  </td>\n",
    "</table>\n"
   ]
  },
  {
   "cell_type": "code",
   "execution_count": 25,
   "id": "aba23c64",
   "metadata": {
    "execution": {
     "iopub.execute_input": "2025-07-06T07:13:21.080986Z",
     "iopub.status.busy": "2025-07-06T07:13:21.080592Z",
     "iopub.status.idle": "2025-07-06T07:13:21.087223Z",
     "shell.execute_reply": "2025-07-06T07:13:21.086223Z"
    },
    "id": "cBgyNJ5z0VSs",
    "papermill": {
     "duration": 0.024053,
     "end_time": "2025-07-06T07:13:21.089303",
     "exception": false,
     "start_time": "2025-07-06T07:13:21.065250",
     "status": "completed"
    },
    "tags": []
   },
   "outputs": [],
   "source": [
    "model_instructions = \"\"\"\n",
    "Solve a question answering task with interleaving Thought, Action, Observation steps. Thought can reason about the current situation,\n",
    "Observation is understanding relevant information from an Action's output and Action can be one of three types:\n",
    " (1) <search>entity</search>, which searches the exact entity on Wikipedia and returns the first paragraph if it exists. If not, it\n",
    "     will return some similar entities to search and you can try to search the information from those topics.\n",
    " (2) <lookup>keyword</lookup>, which returns the next sentence containing keyword in the current context. This only does exact matches,\n",
    "     so keep your searches short.\n",
    " (3) <finish>answer</finish>, which returns the answer and finishes the task.\n",
    "\"\"\"\n",
    "\n",
    "example1 = \"\"\"Question\n",
    "Musician and satirist Allie Goertz wrote a song about the \"The Simpsons\" character Milhouse, who Matt Groening named after who?\n",
    "\n",
    "Thought 1\n",
    "The question simplifies to \"The Simpsons\" character Milhouse is named after who. I only need to search Milhouse and find who it is named after.\n",
    "\n",
    "Action 1\n",
    "<search>Milhouse</search>\n",
    "\n",
    "Observation 1\n",
    "Milhouse Mussolini Van Houten is a recurring character in the Fox animated television series The Simpsons voiced by Pamela Hayden and created by Matt Groening.\n",
    "\n",
    "Thought 2\n",
    "The paragraph does not tell who Milhouse is named after, maybe I can look up \"named after\".\n",
    "\n",
    "Action 2\n",
    "<lookup>named after</lookup>\n",
    "\n",
    "Observation 2\n",
    "Milhouse was named after U.S. president Richard Nixon, whose middle name was Milhous.\n",
    "\n",
    "Thought 3\n",
    "Milhouse was named after U.S. president Richard Nixon, so the answer is Richard Nixon.\n",
    "\n",
    "Action 3\n",
    "<finish>Richard Nixon</finish>\n",
    "\"\"\"\n",
    "\n",
    "example2 = \"\"\"Question\n",
    "What is the elevation range for the area that the eastern sector of the Colorado orogeny extends into?\n",
    "\n",
    "Thought 1\n",
    "I need to search Colorado orogeny, find the area that the eastern sector of the Colorado orogeny extends into, then find the elevation range of the area.\n",
    "\n",
    "Action 1\n",
    "<search>Colorado orogeny</search>\n",
    "\n",
    "Observation 1\n",
    "The Colorado orogeny was an episode of mountain building (an orogeny) in Colorado and surrounding areas.\n",
    "\n",
    "Thought 2\n",
    "It does not mention the eastern sector. So I need to look up eastern sector.\n",
    "\n",
    "Action 2\n",
    "<lookup>eastern sector</lookup>\n",
    "\n",
    "Observation 2\n",
    "The eastern sector extends into the High Plains and is called the Central Plains orogeny.\n",
    "\n",
    "Thought 3\n",
    "The eastern sector of Colorado orogeny extends into the High Plains. So I need to search High Plains and find its elevation range.\n",
    "\n",
    "Action 3\n",
    "<search>High Plains</search>\n",
    "\n",
    "Observation 3\n",
    "High Plains refers to one of two distinct land regions\n",
    "\n",
    "Thought 4\n",
    "I need to instead search High Plains (United States).\n",
    "\n",
    "Action 4\n",
    "<search>High Plains (United States)</search>\n",
    "\n",
    "Observation 4\n",
    "The High Plains are a subregion of the Great Plains. From east to west, the High Plains rise in elevation from around 1,800 to 7,000 ft (550 to 2,130m).\n",
    "\n",
    "Thought 5\n",
    "High Plains rise in elevation from around 1,800 to 7,000 ft, so the answer is 1,800 to 7,000 ft.\n",
    "\n",
    "Action 5\n",
    "<finish>1,800 to 7,000 ft</finish>\n",
    "\"\"\"\n",
    "\n",
    "# Come up with more examples yourself, or take a look through https://github.com/ysymyth/ReAct/"
   ]
  },
  {
   "cell_type": "markdown",
   "id": "ebaa4118",
   "metadata": {
    "id": "C3wbfstjTgey",
    "papermill": {
     "duration": 0.01384,
     "end_time": "2025-07-06T07:13:21.117354",
     "exception": false,
     "start_time": "2025-07-06T07:13:21.103514",
     "status": "completed"
    },
    "tags": []
   },
   "source": [
    "To capture a single step at a time, while ignoring any hallucinated Observation steps, you will use `stop_sequences` to end the generation process. The steps are `Thought`, `Action`, `Observation`, in that order."
   ]
  },
  {
   "cell_type": "code",
   "execution_count": 26,
   "id": "1f3cb24a",
   "metadata": {
    "execution": {
     "iopub.execute_input": "2025-07-06T07:13:21.147053Z",
     "iopub.status.busy": "2025-07-06T07:13:21.146322Z",
     "iopub.status.idle": "2025-07-06T07:13:21.833873Z",
     "shell.execute_reply": "2025-07-06T07:13:21.832709Z"
    },
    "id": "8mxrXRkRTdXm",
    "papermill": {
     "duration": 0.70496,
     "end_time": "2025-07-06T07:13:21.836204",
     "exception": false,
     "start_time": "2025-07-06T07:13:21.131244",
     "status": "completed"
    },
    "tags": []
   },
   "outputs": [
    {
     "name": "stdout",
     "output_type": "stream",
     "text": [
      "Thought 1\n",
      "I need to find the transformers NLP paper and then find the authors and their ages to determine the youngest author.\n",
      "\n",
      "Action 1\n",
      "<search>transformers NLP paper</search>\n",
      "\n"
     ]
    }
   ],
   "source": [
    "question = \"\"\"Question\n",
    "Who was the youngest author listed on the transformers NLP paper?\n",
    "\"\"\"\n",
    "\n",
    "# You will perform the Action; so generate up to, but not including, the Observation.\n",
    "react_config = types.GenerateContentConfig(\n",
    "    stop_sequences=[\"\\nObservation\"],\n",
    "    system_instruction=model_instructions + example1 + example2,\n",
    ")\n",
    "\n",
    "# Create a chat that has the model instructions and examples pre-seeded.\n",
    "react_chat = client.chats.create(\n",
    "    model='gemini-2.0-flash',\n",
    "    config=react_config,\n",
    ")\n",
    "\n",
    "resp = react_chat.send_message(question)\n",
    "print(resp.text)"
   ]
  },
  {
   "cell_type": "markdown",
   "id": "d317f99c",
   "metadata": {
    "id": "aW2PIdLbVv3l",
    "papermill": {
     "duration": 0.014006,
     "end_time": "2025-07-06T07:13:21.864661",
     "exception": false,
     "start_time": "2025-07-06T07:13:21.850655",
     "status": "completed"
    },
    "tags": []
   },
   "source": [
    "Now you can perform this research yourself and supply it back to the model."
   ]
  },
  {
   "cell_type": "code",
   "execution_count": 27,
   "id": "38bfad54",
   "metadata": {
    "execution": {
     "iopub.execute_input": "2025-07-06T07:13:21.894784Z",
     "iopub.status.busy": "2025-07-06T07:13:21.893901Z",
     "iopub.status.idle": "2025-07-06T07:13:22.947199Z",
     "shell.execute_reply": "2025-07-06T07:13:22.945908Z"
    },
    "id": "mLMc0DZaV9g2",
    "papermill": {
     "duration": 1.070686,
     "end_time": "2025-07-06T07:13:22.949485",
     "exception": false,
     "start_time": "2025-07-06T07:13:21.878799",
     "status": "completed"
    },
    "tags": []
   },
   "outputs": [
    {
     "name": "stdout",
     "output_type": "stream",
     "text": [
      "Thought 2\n",
      "I have the authors of the paper: Ashish Vaswani, Noam Shazeer, Niki Parmar, Jakob Uszkoreit, Llion Jones, Aidan N. Gomez, Lukasz Kaiser, Illia Polosukhin. Now I need to find their ages at the time of the paper. The paper was published in 2017 (from the filename [1706.03762]).\n",
      "\n",
      "Action 2\n",
      "<search>Ashish Vaswani</search>\n",
      "\n"
     ]
    }
   ],
   "source": [
    "observation = \"\"\"Observation 1\n",
    "[1706.03762] Attention Is All You Need\n",
    "Ashish Vaswani, Noam Shazeer, Niki Parmar, Jakob Uszkoreit, Llion Jones, Aidan N. Gomez, Lukasz Kaiser, Illia Polosukhin\n",
    "We propose a new simple network architecture, the Transformer, based solely on attention mechanisms, dispensing with recurrence and convolutions entirely.\n",
    "\"\"\"\n",
    "resp = react_chat.send_message(observation)\n",
    "print(resp.text)"
   ]
  },
  {
   "cell_type": "markdown",
   "id": "75a1738c",
   "metadata": {
    "id": "bo0tzf4nX6dA",
    "papermill": {
     "duration": 0.015147,
     "end_time": "2025-07-06T07:13:22.979509",
     "exception": false,
     "start_time": "2025-07-06T07:13:22.964362",
     "status": "completed"
    },
    "tags": []
   },
   "source": [
    "This process repeats until the `<finish>` action is reached. You can continue running this yourself if you like, or try the [Wikipedia example](https://github.com/google-gemini/cookbook/blob/main/examples/Search_Wikipedia_using_ReAct.ipynb) to see a fully automated ReAct system at work."
   ]
  },
  {
   "cell_type": "markdown",
   "id": "18d0fb54",
   "metadata": {
    "papermill": {
     "duration": 0.014389,
     "end_time": "2025-07-06T07:13:23.007750",
     "exception": false,
     "start_time": "2025-07-06T07:13:22.993361",
     "status": "completed"
    },
    "tags": []
   },
   "source": [
    "## Thinking mode\n",
    "\n",
    "The experiemental Gemini Flash 2.0 \"Thinking\" model has been trained to generate the \"thinking process\" the model goes through as part of its response. As a result, the Flash Thinking model is capable of stronger reasoning capabilities in its responses.\n",
    "\n",
    "Using a \"thinking mode\" model can provide you with high-quality responses without needing specialised prompting like the previous approaches. One reason this technique is effective is that you induce the model to generate relevant information (\"brainstorming\", or \"thoughts\") that is then used as part of the context in which the final response is generated.\n",
    "\n",
    "Note that when you use the API, you get the final response from the model, but the thoughts are not captured. To see the intermediate thoughts, try out [the thinking mode model in AI Studio](https://aistudio.google.com/prompts/new_chat?model=gemini-2.0-flash-thinking-exp-01-21).\n",
    "\n",
    "<table align=left>\n",
    "  <td>\n",
    "    <a target=\"_blank\" href=\"https://aistudio.google.com/prompts/1Z991SV7lZZZqioOiqIUPv9a9ix-ws4zk\"><img src=\"https://ai.google.dev/site-assets/images/marketing/home/icon-ais.png\" style=\"height: 24px\" height=24/> Open in AI Studio</a>\n",
    "  </td>\n",
    "</table>"
   ]
  },
  {
   "cell_type": "code",
   "execution_count": 28,
   "id": "9f6077fe",
   "metadata": {
    "execution": {
     "iopub.execute_input": "2025-07-06T07:13:23.037407Z",
     "iopub.status.busy": "2025-07-06T07:13:23.037015Z",
     "iopub.status.idle": "2025-07-06T07:13:30.345738Z",
     "shell.execute_reply": "2025-07-06T07:13:30.344842Z"
    },
    "papermill": {
     "duration": 7.325812,
     "end_time": "2025-07-06T07:13:30.347670",
     "exception": false,
     "start_time": "2025-07-06T07:13:23.021858",
     "status": "completed"
    },
    "tags": []
   },
   "outputs": [
    {
     "data": {
      "text/markdown": [
       "Based on publicly available information and reports about the authors of the paper \"Attention Is All You Need\", the youngest author was **Aidan N. Gomez**.\n",
       "\n",
       "At the time the paper was written and published (2017), Aidan N. Gomez was an undergraduate student at the University of Toronto, working as a researcher at Google Brain. The other authors were more senior researchers at Google Brain or Google AI."
      ],
      "text/plain": [
       "<IPython.core.display.Markdown object>"
      ]
     },
     "execution_count": 28,
     "metadata": {},
     "output_type": "execute_result"
    }
   ],
   "source": [
    "import io\n",
    "from IPython.display import Markdown, clear_output\n",
    "\n",
    "\n",
    "response = client.models.generate_content_stream(\n",
    "    model='gemini-2.0-flash-thinking-exp',\n",
    "    contents='Who was the youngest author listed on the transformers NLP paper?',\n",
    ")\n",
    "\n",
    "buf = io.StringIO()\n",
    "for chunk in response:\n",
    "    buf.write(chunk.text)\n",
    "    # Display the response as it is streamed\n",
    "    print(chunk.text, end='')\n",
    "\n",
    "# And then render the finished response as formatted markdown.\n",
    "clear_output()\n",
    "Markdown(buf.getvalue())"
   ]
  },
  {
   "cell_type": "markdown",
   "id": "c389cec9",
   "metadata": {
    "id": "jPiZ_eIIaVPt",
    "papermill": {
     "duration": 0.013875,
     "end_time": "2025-07-06T07:13:30.376120",
     "exception": false,
     "start_time": "2025-07-06T07:13:30.362245",
     "status": "completed"
    },
    "tags": []
   },
   "source": [
    "## Code prompting"
   ]
  },
  {
   "cell_type": "markdown",
   "id": "2ba9a282",
   "metadata": {
    "id": "ZinKamwXeR6C",
    "papermill": {
     "duration": 0.013626,
     "end_time": "2025-07-06T07:13:30.403799",
     "exception": false,
     "start_time": "2025-07-06T07:13:30.390173",
     "status": "completed"
    },
    "tags": []
   },
   "source": [
    "### Generating code\n",
    "\n",
    "The Gemini family of models can be used to generate code, configuration and scripts. Generating code can be helpful when learning to code, learning a new language or for rapidly generating a first draft.\n",
    "\n",
    "It's important to be aware that since LLMs can make mistakes, and can repeat training data, it's essential to read and test your code first, and comply with any relevant licenses.\n",
    "\n",
    "<table align=left>\n",
    "  <td>\n",
    "    <a target=\"_blank\" href=\"https://aistudio.google.com/prompts/1YX71JGtzDjXQkgdes8bP6i3oH5lCRKxv\"><img src=\"https://ai.google.dev/site-assets/images/marketing/home/icon-ais.png\" style=\"height: 24px\" height=24/> Open in AI Studio</a>\n",
    "  </td>\n",
    "</table>"
   ]
  },
  {
   "cell_type": "code",
   "execution_count": 29,
   "id": "deabbc2f",
   "metadata": {
    "execution": {
     "iopub.execute_input": "2025-07-06T07:13:30.433412Z",
     "iopub.status.busy": "2025-07-06T07:13:30.433023Z",
     "iopub.status.idle": "2025-07-06T07:13:31.004307Z",
     "shell.execute_reply": "2025-07-06T07:13:31.003273Z"
    },
    "id": "fOQP9pqmeUO1",
    "papermill": {
     "duration": 0.588685,
     "end_time": "2025-07-06T07:13:31.006550",
     "exception": false,
     "start_time": "2025-07-06T07:13:30.417865",
     "status": "completed"
    },
    "tags": []
   },
   "outputs": [
    {
     "data": {
      "text/markdown": [
       "```python\n",
       "def factorial(n):\n",
       "  \"\"\"Calculates the factorial of a number.\"\"\"\n",
       "  if n == 0:\n",
       "    return 1\n",
       "  else:\n",
       "    return n * factorial(n-1)\n",
       "```\n"
      ],
      "text/plain": [
       "<IPython.core.display.Markdown object>"
      ]
     },
     "execution_count": 29,
     "metadata": {},
     "output_type": "execute_result"
    }
   ],
   "source": [
    "# The Gemini models love to talk, so it helps to specify they stick to the code if that\n",
    "# is all that you want.\n",
    "code_prompt = \"\"\"\n",
    "Write a Python function to calculate the factorial of a number. No explanation, provide only the code.\n",
    "\"\"\"\n",
    "\n",
    "response = client.models.generate_content(\n",
    "    model='gemini-2.0-flash',\n",
    "    config=types.GenerateContentConfig(\n",
    "        temperature=1,\n",
    "        top_p=1,\n",
    "        max_output_tokens=1024,\n",
    "    ),\n",
    "    contents=code_prompt)\n",
    "\n",
    "Markdown(response.text)"
   ]
  },
  {
   "cell_type": "markdown",
   "id": "735f8bb4",
   "metadata": {
    "id": "wlBMWSFhgVRQ",
    "papermill": {
     "duration": 0.01408,
     "end_time": "2025-07-06T07:13:31.035029",
     "exception": false,
     "start_time": "2025-07-06T07:13:31.020949",
     "status": "completed"
    },
    "tags": []
   },
   "source": [
    "### Code execution\n",
    "\n",
    "The Gemini API can automatically run generated code too, and will return the output.\n",
    "\n",
    "<table align=left>\n",
    "  <td>\n",
    "    <a target=\"_blank\" href=\"https://aistudio.google.com/prompts/11veFr_VYEwBWcLkhNLr-maCG0G8sS_7Z\"><img src=\"https://ai.google.dev/site-assets/images/marketing/home/icon-ais.png\" style=\"height: 24px\" height=24/> Open in AI Studio</a>\n",
    "  </td>\n",
    "</table>"
   ]
  },
  {
   "cell_type": "code",
   "execution_count": 30,
   "id": "94d94785",
   "metadata": {
    "execution": {
     "iopub.execute_input": "2025-07-06T07:13:31.065771Z",
     "iopub.status.busy": "2025-07-06T07:13:31.064737Z",
     "iopub.status.idle": "2025-07-06T07:13:39.453185Z",
     "shell.execute_reply": "2025-07-06T07:13:39.452209Z"
    },
    "id": "jT3OfWYfhjRL",
    "papermill": {
     "duration": 8.406436,
     "end_time": "2025-07-06T07:13:39.455769",
     "exception": false,
     "start_time": "2025-07-06T07:13:31.049333",
     "status": "completed"
    },
    "tags": []
   },
   "outputs": [
    {
     "name": "stdout",
     "output_type": "stream",
     "text": [
      "{'text': \"Okay, I understand. First, I'll list the first 14 odd prime numbers. \"\n",
      "         'Remember that a prime number is a number greater than 1 that has '\n",
      "         'only two factors: 1 and itself. Also, the question specifies *odd* '\n",
      "         'primes, which means we exclude 2. Then I will calculate their sum.\\n'\n",
      "         '\\n'\n",
      "         'The first few prime numbers are 2, 3, 5, 7, 11, 13, 17, 19, 23, 29, '\n",
      "         '31, 37, 41, 43, 47...\\n'\n",
      "         '\\n'\n",
      "         'Excluding 2 and taking the next 14, we have:\\n'\n",
      "         '\\n'\n",
      "         '3, 5, 7, 11, 13, 17, 19, 23, 29, 31, 37, 41, 43, 47\\n'\n",
      "         '\\n'\n",
      "         \"Now let's calculate their sum using python.\\n\"\n",
      "         '\\n'}\n",
      "-----\n",
      "{'executable_code': {'code': 'import numpy as np\\n'\n",
      "                             '\\n'\n",
      "                             'primes = [3, 5, 7, 11, 13, 17, 19, 23, 29, 31, '\n",
      "                             '37, 41, 43, 47]\\n'\n",
      "                             'sum_of_primes = np.sum(primes)\\n'\n",
      "                             'print(sum_of_primes)\\n',\n",
      "                     'language': 'PYTHON'}}\n",
      "-----\n",
      "{'code_execution_result': {'outcome': 'OUTCOME_OK', 'output': '326\\n'}}\n",
      "-----\n",
      "{'text': 'The first 14 odd prime numbers are 3, 5, 7, 11, 13, 17, 19, 23, 29, '\n",
      "         '31, 37, 41, 43, and 47. Their sum is 326.\\n'}\n",
      "-----\n"
     ]
    }
   ],
   "source": [
    "from pprint import pprint\n",
    "\n",
    "config = types.GenerateContentConfig(\n",
    "    tools=[types.Tool(code_execution=types.ToolCodeExecution())],\n",
    ")\n",
    "\n",
    "code_exec_prompt = \"\"\"\n",
    "Generate the first 14 odd prime numbers, then calculate their sum.\n",
    "\"\"\"\n",
    "\n",
    "response = client.models.generate_content(\n",
    "    model='gemini-2.0-flash',\n",
    "    config=config,\n",
    "    contents=code_exec_prompt)\n",
    "\n",
    "for part in response.candidates[0].content.parts:\n",
    "  pprint(part.to_json_dict())\n",
    "  print(\"-----\")"
   ]
  },
  {
   "cell_type": "markdown",
   "id": "072e4e11",
   "metadata": {
    "id": "ZspT1GSkjG6d",
    "papermill": {
     "duration": 0.014212,
     "end_time": "2025-07-06T07:13:39.484828",
     "exception": false,
     "start_time": "2025-07-06T07:13:39.470616",
     "status": "completed"
    },
    "tags": []
   },
   "source": [
    "This response contains multiple parts, including an opening and closing text part that represent regular responses, an `executable_code` part that represents generated code and a `code_execution_result` part that represents the results from running the generated code.\n",
    "\n",
    "You can explore them individually."
   ]
  },
  {
   "cell_type": "code",
   "execution_count": 31,
   "id": "ff9ef7d7",
   "metadata": {
    "execution": {
     "iopub.execute_input": "2025-07-06T07:13:39.516064Z",
     "iopub.status.busy": "2025-07-06T07:13:39.515063Z",
     "iopub.status.idle": "2025-07-06T07:13:39.528415Z",
     "shell.execute_reply": "2025-07-06T07:13:39.527234Z"
    },
    "papermill": {
     "duration": 0.031441,
     "end_time": "2025-07-06T07:13:39.530412",
     "exception": false,
     "start_time": "2025-07-06T07:13:39.498971",
     "status": "completed"
    },
    "tags": []
   },
   "outputs": [
    {
     "data": {
      "text/markdown": [
       "Okay, I understand. First, I'll list the first 14 odd prime numbers. Remember that a prime number is a number greater than 1 that has only two factors: 1 and itself. Also, the question specifies *odd* primes, which means we exclude 2. Then I will calculate their sum.\n",
       "\n",
       "The first few prime numbers are 2, 3, 5, 7, 11, 13, 17, 19, 23, 29, 31, 37, 41, 43, 47...\n",
       "\n",
       "Excluding 2 and taking the next 14, we have:\n",
       "\n",
       "3, 5, 7, 11, 13, 17, 19, 23, 29, 31, 37, 41, 43, 47\n",
       "\n",
       "Now let's calculate their sum using python.\n",
       "\n"
      ],
      "text/plain": [
       "<IPython.core.display.Markdown object>"
      ]
     },
     "metadata": {},
     "output_type": "display_data"
    },
    {
     "data": {
      "text/markdown": [
       "```python\n",
       "import numpy as np\n",
       "\n",
       "primes = [3, 5, 7, 11, 13, 17, 19, 23, 29, 31, 37, 41, 43, 47]\n",
       "sum_of_primes = np.sum(primes)\n",
       "print(sum_of_primes)\n",
       "\n",
       "```"
      ],
      "text/plain": [
       "<IPython.core.display.Markdown object>"
      ]
     },
     "metadata": {},
     "output_type": "display_data"
    },
    {
     "data": {
      "text/markdown": [
       "```\n",
       "326\n",
       "\n",
       "```"
      ],
      "text/plain": [
       "<IPython.core.display.Markdown object>"
      ]
     },
     "metadata": {},
     "output_type": "display_data"
    },
    {
     "data": {
      "text/markdown": [
       "The first 14 odd prime numbers are 3, 5, 7, 11, 13, 17, 19, 23, 29, 31, 37, 41, 43, and 47. Their sum is 326.\n"
      ],
      "text/plain": [
       "<IPython.core.display.Markdown object>"
      ]
     },
     "metadata": {},
     "output_type": "display_data"
    }
   ],
   "source": [
    "for part in response.candidates[0].content.parts:\n",
    "    if part.text:\n",
    "        display(Markdown(part.text))\n",
    "    elif part.executable_code:\n",
    "        display(Markdown(f'```python\\n{part.executable_code.code}\\n```'))\n",
    "    elif part.code_execution_result:\n",
    "        if part.code_execution_result.outcome != 'OUTCOME_OK':\n",
    "            display(Markdown(f'## Status {part.code_execution_result.outcome}'))\n",
    "\n",
    "        display(Markdown(f'```\\n{part.code_execution_result.output}\\n```'))"
   ]
  },
  {
   "cell_type": "markdown",
   "id": "af843fc2",
   "metadata": {
    "id": "1gUX8QzCj4d5",
    "papermill": {
     "duration": 0.014352,
     "end_time": "2025-07-06T07:13:39.559379",
     "exception": false,
     "start_time": "2025-07-06T07:13:39.545027",
     "status": "completed"
    },
    "tags": []
   },
   "source": [
    "### Explaining code\n",
    "\n",
    "The Gemini family of models can explain code to you too. In this example, you pass a [bash script](https://github.com/magicmonty/bash-git-prompt) and ask some questions.\n",
    "\n",
    "<table align=left>\n",
    "  <td>\n",
    "    <a target=\"_blank\" href=\"https://aistudio.google.com/prompts/1N7LGzWzCYieyOf_7bAG4plrmkpDNmUyb\"><img src=\"https://ai.google.dev/site-assets/images/marketing/home/icon-ais.png\" style=\"height: 24px\" height=24/> Open in AI Studio</a>\n",
    "  </td>\n",
    "</table>"
   ]
  },
  {
   "cell_type": "code",
   "execution_count": 32,
   "id": "a4e266de",
   "metadata": {
    "execution": {
     "iopub.execute_input": "2025-07-06T07:13:39.590812Z",
     "iopub.status.busy": "2025-07-06T07:13:39.590026Z",
     "iopub.status.idle": "2025-07-06T07:13:42.408340Z",
     "shell.execute_reply": "2025-07-06T07:13:42.407331Z"
    },
    "id": "7_jPMMoxkIEb",
    "papermill": {
     "duration": 2.836324,
     "end_time": "2025-07-06T07:13:42.410491",
     "exception": false,
     "start_time": "2025-07-06T07:13:39.574167",
     "status": "completed"
    },
    "tags": []
   },
   "outputs": [
    {
     "data": {
      "text/markdown": [
       "This file is a Bash script designed to enhance your command-line prompt with information about the current Git repository.  It's often called `bash-git-prompt` or similar.\n",
       "\n",
       "**What it does (High-Level):**\n",
       "\n",
       "*   **Adds Git Status to Your Prompt:**  The primary function is to display information about the current Git repository in your command prompt. This usually includes the branch name, status of the working directory (e.g., changes staged, unstaged, untracked files), and the state of your local branch relative to the remote.\n",
       "*   **Customizable Appearance:** It's designed to be highly customizable, allowing you to change colors, symbols, and the specific information displayed in the prompt through themes and configuration options.\n",
       "*   **Asynchronous Updates:**  It can optionally fetch remote branch information in the background to avoid slowing down your prompt.\n",
       "*   **Themeable:** Allows you to change the look and feel of the git prompt using themes.\n",
       "*   **Virtualenv Support:**  Includes support for displaying the current virtual environment.\n",
       "\n",
       "**Why You Would Use It:**\n",
       "\n",
       "*   **Quick Git Status at a Glance:**  Instead of constantly running `git status`, you can see the important information directly in your prompt.\n",
       "*   **Improved Workflow:**  Being aware of the Git status can reduce errors and improve your overall Git workflow.\n",
       "*   **Personalization:**  You can tailor the prompt to display exactly the information that is most relevant to you, in a way that is visually appealing.\n",
       "*   **Better User Experience:** Makes working with Git repositories from the command line much more pleasant.\n",
       "\n",
       "**In short:** This script aims to provide a more informative and visually helpful command-line experience when working with Git repositories. It lets you see your Git status without having to type `git status` all the time.\n"
      ],
      "text/plain": [
       "<IPython.core.display.Markdown object>"
      ]
     },
     "execution_count": 32,
     "metadata": {},
     "output_type": "execute_result"
    }
   ],
   "source": [
    "file_contents = !curl https://raw.githubusercontent.com/magicmonty/bash-git-prompt/refs/heads/master/gitprompt.sh\n",
    "\n",
    "explain_prompt = f\"\"\"\n",
    "Please explain what this file does at a very high level. What is it, and why would I use it?\n",
    "\n",
    "```\n",
    "{file_contents}\n",
    "```\n",
    "\"\"\"\n",
    "\n",
    "response = client.models.generate_content(\n",
    "    model='gemini-2.0-flash',\n",
    "    contents=explain_prompt)\n",
    "\n",
    "Markdown(response.text)"
   ]
  },
  {
   "cell_type": "markdown",
   "id": "e59563c3",
   "metadata": {
    "id": "2a8266d97ce5",
    "papermill": {
     "duration": 0.014477,
     "end_time": "2025-07-06T07:13:42.440196",
     "exception": false,
     "start_time": "2025-07-06T07:13:42.425719",
     "status": "completed"
    },
    "tags": []
   },
   "source": [
    "## Learn more\n",
    "\n",
    "To learn more about prompting in depth:\n",
    "\n",
    "* Check out the whitepaper issued with today's content,\n",
    "* Try out the apps listed at the top of this notebook ([TextFX](https://textfx.withgoogle.com/), [SQL Talk](https://sql-talk-r5gdynozbq-uc.a.run.app/) and [NotebookLM](https://notebooklm.google/)),\n",
    "* Read the [Introduction to Prompting](https://ai.google.dev/gemini-api/docs/prompting-intro) from the Gemini API docs,\n",
    "* Explore the Gemini API's [prompt gallery](https://ai.google.dev/gemini-api/prompts) and try them out in AI Studio,\n",
    "* Check out the Gemini API cookbook for [inspirational examples](https://github.com/google-gemini/cookbook/blob/main/examples/) and [educational quickstarts](https://github.com/google-gemini/cookbook/blob/main/quickstarts/).\n",
    "\n",
    "Be sure to check out the codelabs on day 3 too, where you will explore some more advanced prompting with code execution.\n",
    "\n",
    "And please share anything exciting you have tried in the Discord!\n",
    "\n",
    "*- [Mark McD](https://linktr.ee/markmcd)*"
   ]
  }
 ],
 "metadata": {
  "colab": {
   "name": "day-1-prompting.ipynb",
   "toc_visible": true
  },
  "kaggle": {
   "accelerator": "none",
   "dataSources": [],
   "dockerImageVersionId": 30786,
   "isGpuEnabled": false,
   "isInternetEnabled": true,
   "language": "python",
   "sourceType": "notebook"
  },
  "kernelspec": {
   "display_name": "Python 3",
   "language": "python",
   "name": "python3"
  },
  "language_info": {
   "codemirror_mode": {
    "name": "ipython",
    "version": 3
   },
   "file_extension": ".py",
   "mimetype": "text/x-python",
   "name": "python",
   "nbconvert_exporter": "python",
   "pygments_lexer": "ipython3",
   "version": "3.10.14"
  },
  "papermill": {
   "default_parameters": {},
   "duration": 123.148376,
   "end_time": "2025-07-06T07:13:43.074869",
   "environment_variables": {},
   "exception": null,
   "input_path": "__notebook__.ipynb",
   "output_path": "__notebook__.ipynb",
   "parameters": {},
   "start_time": "2025-07-06T07:11:39.926493",
   "version": "2.6.0"
  }
 },
 "nbformat": 4,
 "nbformat_minor": 5
}
